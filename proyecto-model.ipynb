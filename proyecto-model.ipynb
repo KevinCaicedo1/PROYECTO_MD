{
 "cells": [
  {
   "cell_type": "code",
   "execution_count": 4,
   "metadata": {},
   "outputs": [
    {
     "name": "stdout",
     "output_type": "stream",
     "text": [
      "Modelo entrenado y guardado exitosamente.\n"
     ]
    }
   ],
   "source": [
    "import pandas as pd\n",
    "from surprise import Dataset, Reader, SVD\n",
    "from surprise.model_selection import train_test_split\n",
    "import pickle\n",
    "\n",
    "# Cargar datos\n",
    "df_ratings = pd.read_csv(\"ratings.csv\")\n",
    "reader = Reader(rating_scale=(0.5, 5.0))\n",
    "data = Dataset.load_from_df(df_ratings[['userId', 'movieId', 'rating']], reader)\n",
    "\n",
    "# Dividir en conjunto de entrenamiento y prueba\n",
    "trainset, testset = train_test_split(data, test_size=0.2)\n",
    "\n",
    "# Entrenar el modelo SVD\n",
    "model = SVD(n_factors=50, n_epochs=20, random_state=42)\n",
    "model.fit(trainset)\n",
    "\n",
    "# Guardar el modelo entrenado\n",
    "with open(\"model/modelo_svd.pkl\", \"wb\") as f:\n",
    "    pickle.dump(model, f)\n",
    "\n",
    "print(\"Modelo entrenado y guardado exitosamente.\")\n"
   ]
  },
  {
   "cell_type": "code",
   "execution_count": null,
   "metadata": {},
   "outputs": [],
   "source": [
    "from surprise import SVD\n",
    "from surprise import accuracy\n",
    "\n",
    "# Configurar y entrenar el modelo\n",
    "model = SVD(n_factors=50, n_epochs=20, random_state=42)\n",
    "model.fit(trainset)\n",
    "\n",
    "# Evaluar el modelo\n",
    "predictions = model.test(testset)\n",
    "rmse = accuracy.rmse(predictions)\n",
    "print(f\"RMSE: {rmse}\")\n"
   ]
  },
  {
   "cell_type": "code",
   "execution_count": null,
   "metadata": {},
   "outputs": [],
   "source": [
    "import pickle\n",
    "\n",
    "with open(\"modelo_svd.pkl\", \"wb\") as f:\n",
    "    pickle.dump(model, f)\n",
    " "
   ]
  }
 ],
 "metadata": {
  "kernelspec": {
   "display_name": "Python 3",
   "language": "python",
   "name": "python3"
  },
  "language_info": {
   "codemirror_mode": {
    "name": "ipython",
    "version": 3
   },
   "file_extension": ".py",
   "mimetype": "text/x-python",
   "name": "python",
   "nbconvert_exporter": "python",
   "pygments_lexer": "ipython3",
   "version": "3.11.9"
  }
 },
 "nbformat": 4,
 "nbformat_minor": 2
}
